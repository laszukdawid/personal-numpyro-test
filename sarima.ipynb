{
 "cells": [
  {
   "cell_type": "code",
   "execution_count": 1,
   "id": "ecd14755",
   "metadata": {},
   "outputs": [
    {
     "name": "stdout",
     "output_type": "stream",
     "text": [
      "Collecting statsmodels\n",
      "  Downloading statsmodels-0.13.5-cp310-cp310-manylinux_2_17_x86_64.manylinux2014_x86_64.whl (9.9 MB)\n",
      "\u001b[2K     \u001b[38;2;114;156;31m━━━━━━━━━━━━━━━━━━━━━━━━━━━━━━━━━━━━━━━━\u001b[0m \u001b[32m9.9/9.9 MB\u001b[0m \u001b[31m5.4 MB/s\u001b[0m eta \u001b[36m0:00:00\u001b[0mm eta \u001b[36m0:00:01\u001b[0m[36m0:00:01\u001b[0m\n",
      "\u001b[?25hCollecting patsy>=0.5.2\n",
      "  Downloading patsy-0.5.3-py2.py3-none-any.whl (233 kB)\n",
      "\u001b[2K     \u001b[38;2;114;156;31m━━━━━━━━━━━━━━━━━━━━━━━━━━━━━━━━━━━━━━━\u001b[0m \u001b[32m233.8/233.8 KB\u001b[0m \u001b[31m7.1 MB/s\u001b[0m eta \u001b[36m0:00:00\u001b[0m31m12.0 MB/s\u001b[0m eta \u001b[36m0:00:01\u001b[0m\n",
      "\u001b[?25hRequirement already satisfied: pandas>=0.25 in ./.venv/lib/python3.10/site-packages (from statsmodels) (2.0.0)\n",
      "Requirement already satisfied: packaging>=21.3 in ./.venv/lib/python3.10/site-packages (from statsmodels) (23.0)\n",
      "Requirement already satisfied: scipy>=1.3 in ./.venv/lib/python3.10/site-packages (from statsmodels) (1.10.1)\n",
      "Requirement already satisfied: numpy>=1.17 in ./.venv/lib/python3.10/site-packages (from statsmodels) (1.24.2)\n",
      "Requirement already satisfied: pytz>=2020.1 in ./.venv/lib/python3.10/site-packages (from pandas>=0.25->statsmodels) (2023.3)\n",
      "Requirement already satisfied: python-dateutil>=2.8.2 in ./.venv/lib/python3.10/site-packages (from pandas>=0.25->statsmodels) (2.8.2)\n",
      "Requirement already satisfied: tzdata>=2022.1 in ./.venv/lib/python3.10/site-packages (from pandas>=0.25->statsmodels) (2023.3)\n",
      "Requirement already satisfied: six in ./.venv/lib/python3.10/site-packages (from patsy>=0.5.2->statsmodels) (1.16.0)\n",
      "Installing collected packages: patsy, statsmodels\n",
      "Successfully installed patsy-0.5.3 statsmodels-0.13.5\n"
     ]
    }
   ],
   "source": [
    "!pip install statsmodels"
   ]
  },
  {
   "cell_type": "code",
   "execution_count": 3,
   "id": "5deffb4a",
   "metadata": {},
   "outputs": [
    {
     "name": "stdout",
     "output_type": "stream",
     "text": [
      "Predictions:  [0 0 0 0 0 0 0 0 0 0]\n"
     ]
    }
   ],
   "source": [
    "import numpy as np\n",
    "from scipy.optimize import minimize\n",
    "\n",
    "def arima(data, p, d, q):\n",
    "    \"\"\"\n",
    "    Implements the ARIMA model on a time series using numpy and scipy.\n",
    "    \n",
    "    Parameters:\n",
    "    - data: a 1-dimensional numpy array containing the time series data\n",
    "    - p: the autoregressive (AR) order\n",
    "    - d: the differencing order\n",
    "    - q: the moving average (MA) order\n",
    "    \n",
    "    Returns:\n",
    "    - predictions: a numpy array containing the forecasted values for the time series\n",
    "    \"\"\"\n",
    "    \n",
    "    # Define a function to calculate the residual sum of squares (RSS) for a given set of ARIMA coefficients\n",
    "    def rss(params):\n",
    "        ar_params = params[:p]\n",
    "        ma_params = params[p:]\n",
    "        y_hat = np.zeros_like(data)\n",
    "        y_hat[:p] = data[:p]\n",
    "        for i in range(p, len(data)):\n",
    "            ar_term = np.sum(ar_params * y_hat[i-p:i])\n",
    "            ma_term = np.sum(ma_params * (data[i-q:i] - y_hat[i-q:i]))\n",
    "            y_hat[i] = ar_term + ma_term\n",
    "        residuals = data - y_hat\n",
    "        return np.sum(residuals**2)\n",
    "    \n",
    "    # Initialize ARIMA coefficients\n",
    "    ar_coefs = np.zeros(p)\n",
    "    ma_coefs = np.zeros(q)\n",
    "    initial_guess = np.concatenate([ar_coefs, ma_coefs])\n",
    "    \n",
    "    # Minimize RSS to estimate coefficients\n",
    "    result = minimize(rss, initial_guess, method='BFGS')\n",
    "    ar_coefs = result.x[:p]\n",
    "    ma_coefs = result.x[p:]\n",
    "    \n",
    "    # Apply the ARIMA model to the time series\n",
    "    y_hat = np.zeros_like(data)\n",
    "    y_hat[:p] = data[:p]\n",
    "    for i in range(p, len(data)):\n",
    "        ar_term = np.sum(ar_coefs * y_hat[i-p:i])\n",
    "        ma_term = np.sum(ma_coefs * (data[i-q:i] - y_hat[i-q:i]))\n",
    "        y_hat[i] = ar_term + ma_term\n",
    "    \n",
    "    # Apply differencing if necessary\n",
    "    if d > 0:\n",
    "        y_hat = np.cumsum(y_hat)\n",
    "        y_hat = np.insert(y_hat, 0, data[0])\n",
    "        y_hat = y_hat[:-d] - y_hat[d:]\n",
    "    \n",
    "    return y_hat\n",
    "\n",
    "# Test the ARIMA function on sample data\n",
    "data = np.array([1, 2, 3, 4, 5, 6, 7, 8, 9, 10])\n",
    "predictions = arima(data, p=1, d=1, q=1)\n",
    "print(\"Predictions: \", predictions)"
   ]
  },
  {
   "cell_type": "code",
   "execution_count": 4,
   "id": "e283b15e",
   "metadata": {},
   "outputs": [
    {
     "name": "stdout",
     "output_type": "stream",
     "text": [
      "Actual data:     [-0.05771846  1.0977025   0.2530507   0.05193535 -0.5196793   0.56254967\n",
      "  0.71386375 -0.07345681  0.30420713  0.43453438]\n",
      "Predictions:     [ 0.05473348 -0.08886309  0.60811509 -0.12914269 -0.02312903 -0.2394722\n",
      "  0.40959543  0.23117018 -0.21817672  0.21817847]\n",
      "Prediction MSE:  0.2974316155271429\n"
     ]
    }
   ],
   "source": [
    "from statsmodels.tsa.arima_process import ArmaProcess\n",
    "\n",
    "# Generate simulated data with known ARIMA parameters\n",
    "ar_coefs = np.array([0.5, -0.2])\n",
    "ma_coefs = np.array([0.3])\n",
    "arima_process = ArmaProcess(ar_coefs, ma_coefs)\n",
    "simulated_data = arima_process.generate_sample(nsample=100)\n",
    "\n",
    "# Test the ARIMA function on simulated data\n",
    "predictions = arima(simulated_data, p=2, d=0, q=1)\n",
    "\n",
    "# Compare actual data and forecasted values\n",
    "print(\"Actual data:    \", simulated_data[-10:])\n",
    "print(\"Predictions:    \", predictions[-10:])\n",
    "print(\"Prediction MSE: \", np.mean((simulated_data[-10:] - predictions[-10:])**2))\n"
   ]
  },
  {
   "cell_type": "code",
   "execution_count": null,
   "id": "87fa7cf3",
   "metadata": {},
   "outputs": [],
   "source": []
  }
 ],
 "metadata": {
  "kernelspec": {
   "display_name": "Python 3 (ipykernel)",
   "language": "python",
   "name": "python3"
  },
  "language_info": {
   "codemirror_mode": {
    "name": "ipython",
    "version": 3
   },
   "file_extension": ".py",
   "mimetype": "text/x-python",
   "name": "python",
   "nbconvert_exporter": "python",
   "pygments_lexer": "ipython3",
   "version": "3.10.6"
  }
 },
 "nbformat": 4,
 "nbformat_minor": 5
}
