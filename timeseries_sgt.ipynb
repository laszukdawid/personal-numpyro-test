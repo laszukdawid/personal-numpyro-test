{
 "cells": [
  {
   "cell_type": "code",
   "execution_count": 1,
   "id": "9c02720a",
   "metadata": {},
   "outputs": [],
   "source": [
    "import os\n",
    "\n",
    "import matplotlib.pyplot as plt\n",
    "import pandas as pd\n",
    "from IPython.display import set_matplotlib_formats\n",
    "\n",
    "import jax.numpy as jnp\n",
    "from jax import random\n",
    "\n",
    "import numpyro\n",
    "import numpyro.distributions as dist\n",
    "from numpyro.contrib.control_flow import scan\n",
    "from numpyro.diagnostics import autocorrelation, hpdi\n",
    "from numpyro.infer import MCMC, NUTS, Predictive\n",
    "\n",
    "if \"NUMPYRO_SPHINXBUILD\" in os.environ:\n",
    "    set_matplotlib_formats(\"svg\")\n",
    "\n",
    "numpyro.set_host_device_count(4)"
   ]
  },
  {
   "cell_type": "code",
   "execution_count": 74,
   "id": "1eda688b",
   "metadata": {},
   "outputs": [],
   "source": [
    "full_df = pd.read_csv('all_steps.csv')\n",
    "sub_df = full_df[-365*24:-265*24]\n",
    "\n",
    "data = sub_df.value"
   ]
  },
  {
   "cell_type": "code",
   "execution_count": 75,
   "id": "0c299c62",
   "metadata": {},
   "outputs": [],
   "source": [
    "lynx = sub_df[['value']]\n",
    "lynx['time'] = sub_df['date']"
   ]
  },
  {
   "cell_type": "code",
   "execution_count": 76,
   "id": "21faf6f2",
   "metadata": {},
   "outputs": [
    {
     "data": {
      "text/html": [
       "<div>\n",
       "<style scoped>\n",
       "    .dataframe tbody tr th:only-of-type {\n",
       "        vertical-align: middle;\n",
       "    }\n",
       "\n",
       "    .dataframe tbody tr th {\n",
       "        vertical-align: top;\n",
       "    }\n",
       "\n",
       "    .dataframe thead th {\n",
       "        text-align: right;\n",
       "    }\n",
       "</style>\n",
       "<table border=\"1\" class=\"dataframe\">\n",
       "  <thead>\n",
       "    <tr style=\"text-align: right;\">\n",
       "      <th></th>\n",
       "      <th>date</th>\n",
       "      <th>value</th>\n",
       "    </tr>\n",
       "  </thead>\n",
       "  <tbody>\n",
       "    <tr>\n",
       "      <th>41969</th>\n",
       "      <td>2022-04-10 17:00:00</td>\n",
       "      <td>812</td>\n",
       "    </tr>\n",
       "    <tr>\n",
       "      <th>41970</th>\n",
       "      <td>2022-04-10 18:00:00</td>\n",
       "      <td>2786</td>\n",
       "    </tr>\n",
       "    <tr>\n",
       "      <th>41971</th>\n",
       "      <td>2022-04-10 19:00:00</td>\n",
       "      <td>1759</td>\n",
       "    </tr>\n",
       "    <tr>\n",
       "      <th>41972</th>\n",
       "      <td>2022-04-10 20:00:00</td>\n",
       "      <td>229</td>\n",
       "    </tr>\n",
       "    <tr>\n",
       "      <th>41973</th>\n",
       "      <td>2022-04-10 21:00:00</td>\n",
       "      <td>358</td>\n",
       "    </tr>\n",
       "    <tr>\n",
       "      <th>...</th>\n",
       "      <td>...</td>\n",
       "      <td>...</td>\n",
       "    </tr>\n",
       "    <tr>\n",
       "      <th>44364</th>\n",
       "      <td>2022-07-19 12:00:00</td>\n",
       "      <td>0</td>\n",
       "    </tr>\n",
       "    <tr>\n",
       "      <th>44365</th>\n",
       "      <td>2022-07-19 13:00:00</td>\n",
       "      <td>815</td>\n",
       "    </tr>\n",
       "    <tr>\n",
       "      <th>44366</th>\n",
       "      <td>2022-07-19 14:00:00</td>\n",
       "      <td>2067</td>\n",
       "    </tr>\n",
       "    <tr>\n",
       "      <th>44367</th>\n",
       "      <td>2022-07-19 15:00:00</td>\n",
       "      <td>15</td>\n",
       "    </tr>\n",
       "    <tr>\n",
       "      <th>44368</th>\n",
       "      <td>2022-07-19 16:00:00</td>\n",
       "      <td>186</td>\n",
       "    </tr>\n",
       "  </tbody>\n",
       "</table>\n",
       "<p>2400 rows × 2 columns</p>\n",
       "</div>"
      ],
      "text/plain": [
       "                      date  value\n",
       "41969  2022-04-10 17:00:00    812\n",
       "41970  2022-04-10 18:00:00   2786\n",
       "41971  2022-04-10 19:00:00   1759\n",
       "41972  2022-04-10 20:00:00    229\n",
       "41973  2022-04-10 21:00:00    358\n",
       "...                    ...    ...\n",
       "44364  2022-07-19 12:00:00      0\n",
       "44365  2022-07-19 13:00:00    815\n",
       "44366  2022-07-19 14:00:00   2067\n",
       "44367  2022-07-19 15:00:00     15\n",
       "44368  2022-07-19 16:00:00    186\n",
       "\n",
       "[2400 rows x 2 columns]"
      ]
     },
     "execution_count": 76,
     "metadata": {},
     "output_type": "execute_result"
    }
   ],
   "source": [
    "sub_df"
   ]
  },
  {
   "cell_type": "code",
   "execution_count": 80,
   "id": "99e234ee",
   "metadata": {},
   "outputs": [],
   "source": [
    "def split_train_test(d, ratio=0.9):\n",
    "    samples = int(len(d)*ratio)\n",
    "    y_train = jnp.array(data[:samples], dtype=jnp.float32)\n",
    "    y_test = jnp.array(data[samples:], dtype=jnp.float32)\n",
    "    return y_train, y_test\n",
    "\n",
    "y_train, y_test = split_train_test(data, ratio=0.9)"
   ]
  },
  {
   "cell_type": "code",
   "execution_count": 81,
   "id": "e271f9d2",
   "metadata": {},
   "outputs": [
    {
     "name": "stdout",
     "output_type": "stream",
     "text": [
      "Split:\n",
      "  Training: 2160\n",
      "  Testing : 240\n"
     ]
    }
   ],
   "source": [
    "print(\"Split:\")\n",
    "print(f\"  Training: {len(y_train)}\")\n",
    "print(f\"  Testing : {len(y_test)}\")"
   ]
  },
  {
   "cell_type": "code",
   "execution_count": 82,
   "id": "9f076497",
   "metadata": {},
   "outputs": [],
   "source": [
    "def sgt(y, seasonality, future=0):\n",
    "    # heuristically, standard derivation of Cauchy prior depends on\n",
    "    # the max value of data\n",
    "    cauchy_sd = jnp.max(y) / 150\n",
    "\n",
    "    # NB: priors' parameters are taken from\n",
    "    # https://github.com/cbergmeir/Rlgt/blob/master/Rlgt/R/rlgtcontrol.R\n",
    "    nu = numpyro.sample(\"nu\", dist.Uniform(2, 20))\n",
    "    powx = numpyro.sample(\"powx\", dist.Uniform(0, 1))\n",
    "    sigma = numpyro.sample(\"sigma\", dist.HalfCauchy(cauchy_sd))\n",
    "    offset_sigma = numpyro.sample(\n",
    "        \"offset_sigma\", dist.TruncatedCauchy(low=1e-10, loc=1e-10, scale=cauchy_sd)\n",
    "    )\n",
    "\n",
    "    coef_trend = numpyro.sample(\"coef_trend\", dist.Cauchy(0, cauchy_sd))\n",
    "    pow_trend_beta = numpyro.sample(\"pow_trend_beta\", dist.Beta(1, 1))\n",
    "    # pow_trend takes values from -0.5 to 1\n",
    "    pow_trend = 1.5 * pow_trend_beta - 0.5\n",
    "    pow_season = numpyro.sample(\"pow_season\", dist.Beta(1, 1))\n",
    "\n",
    "    level_sm = numpyro.sample(\"level_sm\", dist.Beta(1, 2))\n",
    "    s_sm = numpyro.sample(\"s_sm\", dist.Uniform(0, 1))\n",
    "    init_s = numpyro.sample(\"init_s\", dist.Cauchy(0, y[:seasonality] * 0.3))\n",
    "\n",
    "    def transition_fn(carry, t):\n",
    "        level, s, moving_sum = carry\n",
    "        season = s[0] * level**pow_season\n",
    "        exp_val = level + coef_trend * level**pow_trend + season\n",
    "        exp_val = jnp.clip(exp_val, a_min=0)\n",
    "        # use expected vale when forecasting\n",
    "        y_t = jnp.where(t >= N, exp_val, y[t])\n",
    "\n",
    "        moving_sum = (\n",
    "            moving_sum + y[t] - jnp.where(t >= seasonality, y[t - seasonality], 0.0)\n",
    "        )\n",
    "        level_p = jnp.where(t >= seasonality, moving_sum / seasonality, y_t - season)\n",
    "        level = level_sm * level_p + (1 - level_sm) * level\n",
    "        level = jnp.clip(level, a_min=0)\n",
    "\n",
    "        new_s = (s_sm * (y_t - level) / season + (1 - s_sm)) * s[0]\n",
    "        # repeat s when forecasting\n",
    "        new_s = jnp.where(t >= N, s[0], new_s)\n",
    "        s = jnp.concatenate([s[1:], new_s[None]], axis=0)\n",
    "\n",
    "        omega = sigma * exp_val**powx + offset_sigma\n",
    "        y_ = numpyro.sample(\"y\", dist.StudentT(nu, exp_val, omega))\n",
    "\n",
    "        return (level, s, moving_sum), y_\n",
    "\n",
    "    N = y.shape[0]\n",
    "    level_init = y[0]\n",
    "    s_init = jnp.concatenate([init_s[1:], init_s[:1]], axis=0)\n",
    "    moving_sum = level_init\n",
    "    with numpyro.handlers.condition(data={\"y\": y[1:]}):\n",
    "        _, ys = scan(\n",
    "            transition_fn, (level_init, s_init, moving_sum), jnp.arange(1, N + future)\n",
    "        )\n",
    "    if future > 0:\n",
    "        numpyro.deterministic(\"y_forecast\", ys[-future:])"
   ]
  },
  {
   "cell_type": "code",
   "execution_count": 83,
   "id": "902912c8",
   "metadata": {},
   "outputs": [],
   "source": [
    "def model(y, future=None):\n",
    "    with numpyro.handlers.condition(data={\"y\": y[1:]}):\n",
    "        _, ys = scan(\n",
    "            transition_fn, (level_init, s_init, moving_sum), jnp.arange(1, N + future)\n",
    "        )\n",
    "    if future > 0:\n",
    "        numpyro.deterministic(\"y_forecast\", ys[-future:])"
   ]
  },
  {
   "cell_type": "code",
   "execution_count": 84,
   "id": "e3fcbca7",
   "metadata": {},
   "outputs": [
    {
     "name": "stdout",
     "output_type": "stream",
     "text": [
      "Lag values sorted according to their autocorrelation values:\n",
      "\n",
      "[2158 2157    0 ... 2154 2155 2156]\n"
     ]
    }
   ],
   "source": [
    "print(\"Lag values sorted according to their autocorrelation values:\\n\")\n",
    "print(jnp.argsort(autocorrelation(y_train))[::-1])"
   ]
  },
  {
   "cell_type": "code",
   "execution_count": 85,
   "id": "5189c45d",
   "metadata": {},
   "outputs": [
    {
     "data": {
      "application/vnd.jupyter.widget-view+json": {
       "model_id": "e9744cebd5dd4fd3a6060ce7e4733bff",
       "version_major": 2,
       "version_minor": 0
      },
      "text/plain": [
       "  0%|          | 0/6000 [00:00<?, ?it/s]"
      ]
     },
     "metadata": {},
     "output_type": "display_data"
    },
    {
     "data": {
      "application/vnd.jupyter.widget-view+json": {
       "model_id": "65636268e5604e0c83ad8f4049748d1f",
       "version_major": 2,
       "version_minor": 0
      },
      "text/plain": [
       "  0%|          | 0/6000 [00:00<?, ?it/s]"
      ]
     },
     "metadata": {},
     "output_type": "display_data"
    },
    {
     "data": {
      "application/vnd.jupyter.widget-view+json": {
       "model_id": "2cca908c2bd246718659aaff7f9fc1f8",
       "version_major": 2,
       "version_minor": 0
      },
      "text/plain": [
       "  0%|          | 0/6000 [00:00<?, ?it/s]"
      ]
     },
     "metadata": {},
     "output_type": "display_data"
    },
    {
     "data": {
      "application/vnd.jupyter.widget-view+json": {
       "model_id": "439dfd190e454ab9a40cfd98a7c72d23",
       "version_major": 2,
       "version_minor": 0
      },
      "text/plain": [
       "  0%|          | 0/6000 [00:00<?, ?it/s]"
      ]
     },
     "metadata": {},
     "output_type": "display_data"
    },
    {
     "name": "stdout",
     "output_type": "stream",
     "text": [
      "\n",
      "                      mean       std    median      5.0%     95.0%     n_eff     r_hat\n",
      "      coef_trend     -0.64      1.00     -0.71     -1.99      0.83       nan 3511314.33\n",
      "       init_s[0]      0.01      0.90      0.25     -1.44      0.96      2.00 114907.17\n",
      "       init_s[1]     -0.90      0.98     -0.94     -1.93      0.20      2.00  32835.02\n",
      "       init_s[2]      0.06      0.76     -0.32     -0.49      1.38      2.00  56101.69\n",
      "       init_s[3]      0.17      1.10      0.40     -1.35      1.23      2.00  76795.01\n",
      "       init_s[4]      0.10      1.28     -0.04     -1.42      1.90      2.00  63829.25\n",
      "       init_s[5]      0.44      1.37      0.95     -1.85      1.72      2.00  52715.94\n",
      "       init_s[6]     -0.43      1.12     -0.23     -1.99      0.72      2.00  71935.81\n",
      "       init_s[7]     -0.42      0.94     -0.12     -1.99      0.54      2.00  58724.88\n",
      "       init_s[8]      0.07      1.09      0.19     -1.58      1.47      2.00  99783.38\n",
      "       init_s[9]     -0.55      1.05     -0.88     -1.61      1.17      2.00  76928.38\n",
      "      init_s[10]      0.72      1.38      1.34     -1.59      1.81      2.00  39003.05\n",
      "      init_s[11]     -0.13      1.05      0.20     -1.83      0.92      2.00  74796.69\n",
      "      init_s[12]     -0.08      1.33      0.06     -1.74      1.30      2.00  87123.59\n",
      "      init_s[13]      0.07      0.98      0.54     -1.60      0.79      2.00  75777.77\n",
      "      init_s[14]      0.50      1.36      1.18     -1.86      1.49      2.00  63515.88\n",
      "      init_s[15]     -0.10      1.19     -0.59     -1.14      1.91      2.00 124858.70\n",
      "      init_s[16]     -0.66      0.51     -0.61     -1.42     -0.00      2.00  97323.18\n",
      "      init_s[17]     -0.24      1.11     -0.29     -1.36      0.97      2.00  74374.73\n",
      "      init_s[18]     -0.58      1.05     -1.16     -1.26      1.24      2.00  96735.55\n",
      "      init_s[19]      0.00      0.79     -0.05     -0.99      1.11      2.00  65108.42\n",
      "      init_s[20]     -0.26      1.21     -0.56     -1.62      1.70      2.00  42000.04\n",
      "      init_s[21]     -0.53      1.26     -0.75     -1.99      1.37      2.00  68082.21\n",
      "      init_s[22]      0.44      1.38      1.06     -1.91      1.53      2.00  71148.55\n",
      "      init_s[23]      0.17      1.09      0.31     -1.41      1.48      2.00 155631.38\n",
      "        level_sm      0.56      0.23      0.62      0.20      0.79       nan 3614814.84\n",
      "              nu     13.88      2.48     13.52     11.12     17.35       nan 1348203.02\n",
      "    offset_sigma      1.83      1.37      1.96      0.16      3.25       nan 5463303.17\n",
      "      pow_season      0.60      0.18      0.61      0.38      0.79      2.00 3619124.37\n",
      "  pow_trend_beta      0.43      0.17      0.38      0.27      0.69       nan 1704543.53\n",
      "            powx      0.33      0.30      0.17      0.13      0.85       nan 19363836.45\n",
      "            s_sm      0.43      0.23      0.41      0.19      0.72       nan 6622913.78\n",
      "           sigma      0.49      0.17      0.46      0.28      0.76       nan 2309999.73\n",
      "\n",
      "Number of divergences: 16000\n",
      "CPU times: user 28.6 s, sys: 1.15 s, total: 29.8 s\n",
      "Wall time: 13.7 s\n"
     ]
    }
   ],
   "source": [
    "%%time\n",
    "\n",
    "seasonality = 24\n",
    "\n",
    "kernel = NUTS(sgt)\n",
    "mcmc = MCMC(kernel, num_warmup=2000, num_samples=4000, num_chains=4)\n",
    "mcmc.run(random.PRNGKey(100), y_train, seasonality=seasonality)\n",
    "mcmc.print_summary()\n",
    "samples = mcmc.get_samples()\n"
   ]
  },
  {
   "cell_type": "code",
   "execution_count": 87,
   "id": "4d55639b",
   "metadata": {},
   "outputs": [],
   "source": [
    "predictive = Predictive(sgt, samples, return_sites=[\"y_forecast\"])\n",
    "forecast_marginal = predictive(random.PRNGKey(1), y_train, seasonality=seasonality, future=len(y_test))[\n",
    "    \"y_forecast\"\n",
    "]\n"
   ]
  },
  {
   "cell_type": "code",
   "execution_count": 88,
   "id": "b2dcd472",
   "metadata": {},
   "outputs": [
    {
     "name": "stdout",
     "output_type": "stream",
     "text": [
      "sMAPE: nan, rmse: nan\n"
     ]
    }
   ],
   "source": [
    "y_pred = jnp.mean(forecast_marginal, axis=0)\n",
    "sMAPE = jnp.mean(jnp.abs(y_pred - y_test) / (y_pred + y_test)) * 200\n",
    "msqrt = jnp.sqrt(jnp.mean((y_pred - y_test) ** 2))\n",
    "print(\"sMAPE: {:.2f}, rmse: {:.2f}\".format(sMAPE, msqrt))\n",
    "\n"
   ]
  },
  {
   "cell_type": "code",
   "execution_count": 89,
   "id": "acbc288e",
   "metadata": {},
   "outputs": [
    {
     "data": {
      "image/png": "[encoded data removed]",
      "text/plain": [
       "<Figure size 800x400 with 1 Axes>"
      ]
     },
     "metadata": {},
     "output_type": "display_data"
    }
   ],
   "source": [
    "plt.figure(figsize=(8, 4))\n",
    "plt.plot(lynx[\"time\"], data)\n",
    "t_future = lynx[\"time\"][len(y_train):]\n",
    "hpd_low, hpd_high = hpdi(forecast_marginal)\n",
    "plt.plot(t_future, y_pred, lw=2)\n",
    "plt.fill_between(t_future, hpd_low, hpd_high, alpha=0.3)\n",
    "plt.title(\"Forecasting lynx dataset with SGT model (90% HPDI)\")\n",
    "plt.show()"
   ]
  },
  {
   "cell_type": "code",
   "execution_count": null,
   "id": "ad3198e2",
   "metadata": {},
   "outputs": [],
   "source": []
  }
 ],
 "metadata": {
  "kernelspec": {
   "display_name": "Python 3 (ipykernel)",
   "language": "python",
   "name": "python3"
  },
  "language_info": {
   "codemirror_mode": {
    "name": "ipython",
    "version": 3
   },
   "file_extension": ".py",
   "mimetype": "text/x-python",
   "name": "python",
   "nbconvert_exporter": "python",
   "pygments_lexer": "ipython3",
   "version": "3.10.6"
  }
 },
 "nbformat": 4,
 "nbformat_minor": 5
}
